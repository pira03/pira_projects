{
 "cells": [
  {
   "cell_type": "code",
   "execution_count": 1,
   "id": "661c2791",
   "metadata": {},
   "outputs": [],
   "source": [
    "# LLM + LangChain\n",
    "from langchain_google_genai import ChatGoogleGenerativeAI\n",
    "from langchain.chains import ConversationChain\n",
    "from langchain.prompts import PromptTemplate, FewShotPromptTemplate\n",
    "from langchain.memory import ConversationBufferMemory\n",
    "from prompt_config import prefix, suffix, few_shots\n",
    "from langchain.prompts import SemanticSimilarityExampleSelector\n",
    "from langchain_community.embeddings import HuggingFaceEmbeddings\n",
    "from langchain_community.vectorstores import Chroma\n",
    "from langchain.chat_models import ChatOpenAI \n",
    "import os\n",
    "from dotenv import load_dotenv\n",
    "\n",
    "\n",
    "\n",
    "# Data handling\n",
    "import pandas as pd\n",
    "\n",
    "# Plotting\n",
    "import plotly.express as px\n",
    "import plotly.graph_objects as go\n",
    "import plotly.express as px\n",
    "from langchain.document_loaders import CSVLoader\n",
    "\n",
    "# Utilities\n",
    "import os\n"
   ]
  },
  {
   "cell_type": "code",
   "execution_count": 2,
   "id": "5ab4db4f",
   "metadata": {},
   "outputs": [
    {
     "name": "stderr",
     "output_type": "stream",
     "text": [
      "/var/folders/lk/23npv5w93yvfg4q5_4b_sq7h0000gn/T/ipykernel_15830/2938347930.py:5: LangChainDeprecationWarning: The class `ChatOpenAI` was deprecated in LangChain 0.0.10 and will be removed in 1.0. An updated version of the class exists in the :class:`~langchain-openai package and should be used instead. To use it run `pip install -U :class:`~langchain-openai` and import as `from :class:`~langchain_openai import ChatOpenAI``.\n",
      "  llm = ChatOpenAI(openai_api_key=key, model_name=\"gpt-5-mini\", temperature=1 )\n"
     ]
    }
   ],
   "source": [
    "\n",
    "load_dotenv()\n",
    "key= os.getenv(\"OPENAI_API_KEY\")\n",
    "\n",
    "# Initialize GPT-5 Nano\n",
    "llm = ChatOpenAI(openai_api_key=key, model_name=\"gpt-5-mini\", temperature=1 )\n",
    "\n",
    "\n",
    "\n"
   ]
  },
  {
   "cell_type": "code",
   "execution_count": 30,
   "id": "f9ef7823",
   "metadata": {},
   "outputs": [],
   "source": [
    "def decide_salary(df, gender_col: str, age_col: str) -> pd.DataFrame:\n",
    "    def calc_salary(row):\n",
    "        gender = str(row[gender_col]).lower()\n",
    "        age = str(row[age_col]).lower()\n",
    "        if gender == 'male' and age == 'young':\n",
    "            return 75000\n",
    "        elif gender == 'female' and age == 'young':\n",
    "            return 100000\n",
    "        else:\n",
    "            return 50000\n",
    "\n",
    "    df['Salary'] = df.apply(calc_salary, axis=1)\n",
    "    return df\n"
   ]
  },
  {
   "cell_type": "code",
   "execution_count": 31,
   "id": "5788c031",
   "metadata": {},
   "outputs": [],
   "source": [
    "def clean_code(code: str) -> str:\n",
    "    \"\"\"\n",
    "    Remove Markdown backticks and language hints from LLM-generated code.\n",
    "    \"\"\"\n",
    "    code = code.strip()\n",
    "    # Remove ```python or ``` at the start\n",
    "    if code.startswith(\"```\"):\n",
    "        code = \"\\n\".join(code.splitlines()[1:])\n",
    "    # Remove ``` at the end\n",
    "    if code.endswith(\"```\"):\n",
    "        code = \"\\n\".join(code.splitlines()[:-1])\n",
    "    return code"
   ]
  },
  {
   "cell_type": "code",
   "execution_count": 32,
   "id": "7c762b28",
   "metadata": {},
   "outputs": [],
   "source": [
    "import pandas as pd\n",
    "\n",
    "# Load your CSV\n",
    "df = pd.read_csv(\"/Users/piratheebanmayuran/Documents/GitHub/pira_projects/llm_projects/data.csv\")\n"
   ]
  },
  {
   "cell_type": "code",
   "execution_count": 36,
   "id": "eeaff4f1",
   "metadata": {},
   "outputs": [],
   "source": [
    "def validate_examples(examples):\n",
    "    for i, ex in enumerate(examples):\n",
    "        for key in [\"input\", \"output\"]:\n",
    "            if key not in ex:\n",
    "                raise ValueError(f\"Example {i} is missing the key '{key}'\")\n",
    "            if not isinstance(ex[key], str):\n",
    "                # Convert lists or other types to string automatically\n",
    "                print(f\"Warning: Example {i} key '{key}' is not a string. Converting to string.\")\n",
    "                ex[key] = str(ex[key])\n",
    "    return examples"
   ]
  },
  {
   "cell_type": "code",
   "execution_count": 38,
   "id": "95796e01",
   "metadata": {},
   "outputs": [
    {
     "data": {
      "text/plain": [
       "[{'input': 'Show summary of Salary column',\n",
       "  'output': \"print(df['Salary'].describe())\"},\n",
       " {'input': 'calculate the salary based on the gender and age of the employee',\n",
       "  'output': \"df = decide_salary(df, 'Gender', 'AgeCategory')\"},\n",
       " {'input': 'show summary of the data', 'output': 'print(df.describe())'},\n",
       " {'input': 'Plot Gender distribution',\n",
       "  'output': \"fig = px.histogram(df, x='Gender')\\nfig\"},\n",
       " {'input': 'Create a bar chart of Age distribution',\n",
       "  'output': \"fig = px.bar(df['AgeCategory'].value_counts().reset_index(), x='index', y='AgeCategory')\\nfig\"},\n",
       " {'input': 'Show scatter plot of Age vs Salary',\n",
       "  'output': \"fig = px.scatter(df, x='AgeCategory', y='Salary', color='Gender')\\nfig\"}]"
      ]
     },
     "execution_count": 38,
     "metadata": {},
     "output_type": "execute_result"
    }
   ],
   "source": [
    "validate_examples(few_shots)"
   ]
  },
  {
   "cell_type": "code",
   "execution_count": 37,
   "id": "086a5652",
   "metadata": {},
   "outputs": [
    {
     "name": "stdout",
     "output_type": "stream",
     "text": [
      "[{'input': 'Show summary of Salary column', 'output': \"print(df['Salary'].describe())\"}, {'input': 'calculate the salary based on the gender and age of the employee', 'output': \"df = decide_salary(df, 'Gender', 'AgeCategory')\"}, {'input': 'show summary of the data', 'output': 'print(df.describe())'}, {'input': 'Plot Gender distribution', 'output': \"fig = px.histogram(df, x='Gender')\\nfig\"}, {'input': 'Create a bar chart of Age distribution', 'output': \"fig = px.bar(df['AgeCategory'].value_counts().reset_index(), x='index', y='AgeCategory')\\nfig\"}, {'input': 'Show scatter plot of Age vs Salary', 'output': \"fig = px.scatter(df, x='AgeCategory', y='Salary', color='Gender')\\nfig\"}]\n"
     ]
    }
   ],
   "source": [
    "# Prompt forces model to return Python code using Pandas + Plotly\n",
    "embeddings = HuggingFaceEmbeddings(model_name='sentence-transformers/all-MiniLM-L6-v2')\n",
    "    # Create texts for vectorization by combining input and output\n",
    "to_vectorize = [f\"{example['input']} {example['output']}\" for example in few_shots]\n",
    "cleaned_few_shots = [{k: str(v) for k, v in ex.items()} for ex in few_shots]\n",
    "vectorstore = Chroma.from_texts(to_vectorize, embeddings, metadatas=cleaned_few_shots)\n",
    "example_selector = SemanticSimilarityExampleSelector(\n",
    "        vectorstore=vectorstore,\n",
    "        k=2,\n",
    "    )\n",
    "example_prompt = PromptTemplate(\n",
    "        input_variables=[\"input\", \"output\"],\n",
    "        template=\"Human: {input}\\nAI:\\n{output}\"\n",
    "    )\n",
    "\n",
    "prompt = FewShotPromptTemplate(\n",
    "    example_selector=example_selector,\n",
    "    example_prompt=example_prompt,\n",
    "    prefix=prefix,\n",
    "    suffix=suffix,\n",
    "    input_variables=[\"history\", \"input\"]\n",
    ")\n",
    "\n",
    "memory = ConversationBufferMemory(memory_key=\"history\")\n",
    "\n",
    "conversation = ConversationChain(\n",
    "    llm=llm,\n",
    "    prompt=prompt,\n",
    "    memory=memory,\n",
    "    verbose=True\n",
    ")\n",
    "print(cleaned_few_shots)"
   ]
  },
  {
   "cell_type": "code",
   "execution_count": 34,
   "id": "37aae8b5",
   "metadata": {},
   "outputs": [
    {
     "name": "stdout",
     "output_type": "stream",
     "text": [
      "\n",
      "\n",
      "\u001b[1m> Entering new ConversationChain chain...\u001b[0m\n",
      "Prompt after formatting:\n",
      "\u001b[32;1m\u001b[1;3m \n",
      "    You are a Python data assistant.\n",
      "    Rules:\n",
      "    - if df is not present, do NOT attempt to load CSV; ask for path from user input to load CSV\n",
      "    - Use pandas for data manipulations\n",
      "    - Use plotly.express (px) for plotting\n",
      "    - Always update 'df' in place\n",
      "    - NEVER save CSV unless instructed\n",
      "    - Only return clean runnable Python code\n",
      "    - DO NOT include any Markdown, backticks, or explanations\n",
      "    - Respond ONLY with the code\n",
      "    - when user ask to calculate the salary based on the gender and age category, use the predefined function decide_salary(df, gender, age_category), look for columns name that has similar name like gender, age_group, age_category etc.\n",
      "    - when user ask to show summary of the data, use df.describe() and print the result\n",
      "    - If 'df' is not present, do NOT attempt to load CSV; wait for user input\n",
      "    - For plotting: ALWAYS create Plotly figures with variable name 'fig' (e.g., fig = px.bar(df, x='column'))\n",
      "    - DO NOT call fig.show() or print(fig) - just create the figure object\n",
      "    - DO NOT return JSON or figure data - create the actual Plotly figure object\n",
      "    - When plotting, use: fig = px.chart_type(df, x='column', y='column') and end with just 'fig'\n",
      "    \n",
      "\n",
      "Human: calculate the salary based on the gender and age of the employee\n",
      "AI:\n",
      "df = decide_salary(df, 'Gender', 'AgeCategory')\n",
      "\n",
      "Human: Plot Gender distribution\n",
      "AI:\n",
      "fig = px.histogram(df, x='Gender')\n",
      "fig\n",
      "\n",
      "Current conversation:\n",
      "    \n",
      "    Human: Create a category column 'GenderCode' based on Gender: male=01, female=02\n",
      "    AI:\u001b[0m\n",
      "\n",
      "\u001b[1m> Finished chain.\u001b[0m\n"
     ]
    },
    {
     "ename": "DTypePromotionError",
     "evalue": "The DType <class 'numpy.dtypes.StrDType'> could not be promoted by <class 'numpy.dtypes._PyFloatDType'>. This means that no common DType exists for the given inputs. For example they cannot be stored in a single array unless the dtype is `object`. The full list of DTypes is: (<class 'numpy.dtypes.StrDType'>, <class 'numpy.dtypes._PyFloatDType'>)",
     "output_type": "error",
     "traceback": [
      "\u001b[0;31m---------------------------------------------------------------------------\u001b[0m",
      "\u001b[0;31mDTypePromotionError\u001b[0m                       Traceback (most recent call last)",
      "Cell \u001b[0;32mIn[34], line 9\u001b[0m\n\u001b[1;32m      7\u001b[0m user_code \u001b[38;5;241m=\u001b[39m response[\u001b[38;5;124m\"\u001b[39m\u001b[38;5;124mresponse\u001b[39m\u001b[38;5;124m\"\u001b[39m]\n\u001b[1;32m      8\u001b[0m user_code \u001b[38;5;241m=\u001b[39m clean_code(user_code)\n\u001b[0;32m----> 9\u001b[0m \u001b[43mexec\u001b[49m\u001b[43m(\u001b[49m\u001b[43muser_code\u001b[49m\u001b[43m)\u001b[49m\n\u001b[1;32m     12\u001b[0m \u001b[38;5;66;03m# df is now updated in memory\u001b[39;00m\n\u001b[1;32m     13\u001b[0m \u001b[38;5;28mprint\u001b[39m(df\u001b[38;5;241m.\u001b[39mhead())\n",
      "File \u001b[0;32m<string>:13\u001b[0m\n",
      "\u001b[0;31mDTypePromotionError\u001b[0m: The DType <class 'numpy.dtypes.StrDType'> could not be promoted by <class 'numpy.dtypes._PyFloatDType'>. This means that no common DType exists for the given inputs. For example they cannot be stored in a single array unless the dtype is `object`. The full list of DTypes is: (<class 'numpy.dtypes.StrDType'>, <class 'numpy.dtypes._PyFloatDType'>)"
     ]
    }
   ],
   "source": [
    "# Example: user wants a category column based on gender\n",
    "user_input = \"Create a category column 'GenderCode' based on Gender: male=01, female=02\"\n",
    "response = conversation.invoke({\"input\": user_input})\n",
    "\n",
    "\n",
    "# Example usage\n",
    "user_code = response[\"response\"]\n",
    "user_code = clean_code(user_code)\n",
    "exec(user_code)\n",
    "\n",
    "\n",
    "# df is now updated in memory\n",
    "print(df.head())\n"
   ]
  },
  {
   "cell_type": "code",
   "execution_count": null,
   "id": "21c8af3f",
   "metadata": {},
   "outputs": [],
   "source": [
    "user_input = \"Create a category column 'IncomeCategory' based on Salary: <50000=low, >=500000=high\"\n",
    "response = conversation.invoke({\"input\": user_input})\n",
    "\n",
    "\n",
    "# Example usage\n",
    "user_code = response[\"response\"]\n",
    "user_code = clean_code(user_code)\n",
    "exec(user_code)"
   ]
  },
  {
   "cell_type": "code",
   "execution_count": null,
   "id": "be106b18",
   "metadata": {},
   "outputs": [],
   "source": [
    "user_input = \"Create a category column 'AgeCategory' based on Age: <30=young, else= old\"\n",
    "response = conversation.invoke({\"input\": user_input})\n",
    "\n",
    "\n",
    "# Example usage\n",
    "user_code = response[\"response\"]\n",
    "user_code = clean_code(user_code)\n",
    "exec(user_code)\n",
    "\n",
    "print(df.head())"
   ]
  },
  {
   "cell_type": "code",
   "execution_count": null,
   "id": "d4929163",
   "metadata": {},
   "outputs": [],
   "source": [
    "print(user_code)"
   ]
  },
  {
   "cell_type": "code",
   "execution_count": null,
   "id": "eb7c4d42",
   "metadata": {},
   "outputs": [],
   "source": [
    "user_input = \"calculate the salary based on the Gender and AgeCategory of the employee\"\n",
    "response = conversation.invoke({\"input\": user_input})\n",
    "user_code = response[\"response\"]\n",
    "user_code = clean_code(user_code)\n",
    "exec(user_code)\n",
    "\n",
    "print(user_code)\n",
    "\n",
    "print(df.head())"
   ]
  },
  {
   "cell_type": "code",
   "execution_count": null,
   "id": "9670c019",
   "metadata": {},
   "outputs": [],
   "source": [
    "user_input = \"Plot Gender as a pie chart using plotly\"\n",
    "response = conversation.invoke({\"input\": user_input})\n",
    "user_code = response[\"response\"]\n",
    "user_code = clean_code(user_code)\n",
    "exec(user_code)\n",
    "\n",
    "print(df.head())"
   ]
  },
  {
   "cell_type": "code",
   "execution_count": null,
   "id": "4f636b32",
   "metadata": {},
   "outputs": [],
   "source": [
    "user_input = \"change column name from AgeCategory to AgeGroup\"\n",
    "response = conversation.invoke({\"input\": user_input})\n",
    "\n",
    "user_code = response[\"response\"]\n",
    "user_code = clean_code(user_code)\n",
    "exec(user_code)"
   ]
  },
  {
   "cell_type": "code",
   "execution_count": null,
   "id": "200a7540",
   "metadata": {},
   "outputs": [],
   "source": [
    "print(df.head())"
   ]
  },
  {
   "cell_type": "code",
   "execution_count": null,
   "id": "7c31d8b4",
   "metadata": {},
   "outputs": [],
   "source": [
    "# user_input = \"save df as a csv file in the current directory\"\n",
    "# response = conversation.invoke({\"input\": user_input})\n",
    "\n",
    "# user_code = response[\"response\"]\n",
    "# user_code = clean_code(user_code)\n",
    "# exec(user_code)\n"
   ]
  },
  {
   "cell_type": "code",
   "execution_count": null,
   "id": "5968ca72",
   "metadata": {},
   "outputs": [],
   "source": [
    "df"
   ]
  }
 ],
 "metadata": {
  "kernelspec": {
   "display_name": "venv",
   "language": "python",
   "name": "python3"
  },
  "language_info": {
   "codemirror_mode": {
    "name": "ipython",
    "version": 3
   },
   "file_extension": ".py",
   "mimetype": "text/x-python",
   "name": "python",
   "nbconvert_exporter": "python",
   "pygments_lexer": "ipython3",
   "version": "3.10.0"
  }
 },
 "nbformat": 4,
 "nbformat_minor": 5
}

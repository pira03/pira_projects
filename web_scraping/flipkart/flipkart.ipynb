{
 "cells": [
  {
   "cell_type": "code",
   "execution_count": 1,
   "id": "0c889b3a",
   "metadata": {},
   "outputs": [],
   "source": [
    "from bs4 import BeautifulSoup\n",
    "import requests\n",
    "import pandas as pd\n",
    "import re"
   ]
  },
  {
   "cell_type": "markdown",
   "id": "6c5f4257",
   "metadata": {},
   "source": [
    "\n",
    "This Python script is designed to scrape product information from Flipkart's mobile accessories and power banks category. It starts by obtaining the product links from the main category page and then iterates through each subcategory page to collect individual product details such as product name, price, and user ratings (if available). The collected data is organized into a DataFrame and saved as a CSV file named \"flipkart.csv.\" This project can be used for market research, price tracking, or any analysis related to mobile accessories and power banks available on Flipkart's platform"
   ]
  },
  {
   "cell_type": "code",
   "execution_count": 2,
   "id": "ab106cad",
   "metadata": {},
   "outputs": [
    {
     "name": "stdout",
     "output_type": "stream",
     "text": [
      "400\n"
     ]
    }
   ],
   "source": [
    "product_links = []\n",
    "\n",
    "\n",
    "url='https://www.flipkart.com/mobile-accessories/power-banks/pr?sid=tyy,4mr,fu6&otracker=categorytree&otracker=nmenu_sub_Electronics_0_Power%20Banks&fm=neo%2Fmerchandising&iid=M_32e9ea93-2ee4-4d38-87ef-5c53970664a9_1_372UD5BXDFYS_MC.SUDNEM7MT757&otracker=hp_rich_navigation_10_1.navigationCard.RICH_NAVIGATION_Electronics~Powerbank_SUDNEM7MT757&otracker1=hp_rich_navigation_PINNED_neo%2Fmerchandising_NA_NAV_EXPANDABLE_navigationCard_cc_10_L1_view-all&cid=SUDNEM7MT757'\n",
    "r = requests.get(url)\n",
    "soup = BeautifulSoup(r.text,'html.parser')\n",
    "\n",
    "for x in range(1,11):\n",
    "    \n",
    "    np = soup.find('a', class_ = '_1LKTO3').get('href')\n",
    "    cnp = 'https://www.flipkart.com' + np\n",
    "    \n",
    "\n",
    "    url = cnp\n",
    "    r = requests.get(url)\n",
    "    soup = BeautifulSoup(r.text,'html.parser')\n",
    "    \n",
    "    \n",
    "  \n",
    "\n",
    "    # Use find_all to find all elements with the specified class\n",
    "    product_elements = soup.find_all('a', class_='s1Q9rs')\n",
    "\n",
    "    for element in product_elements:\n",
    "        href = element.get('href')\n",
    "        if href.startswith('/'):  # Check if the href starts with '/', if so, it's a relative URL\n",
    "            full_link = 'https://www.flipkart.com' + href\n",
    "            product_links.append(full_link)\n",
    "        else:\n",
    "            product_links.append(href)\n",
    "            \n",
    "print(len(product_links))\n"
   ]
  },
  {
   "cell_type": "code",
   "execution_count": 7,
   "id": "14aa5126",
   "metadata": {},
   "outputs": [
    {
     "name": "stdout",
     "output_type": "stream",
     "text": [
      "csv file saved\n"
     ]
    }
   ],
   "source": [
    "product_list=[]\n",
    "\n",
    "for link in product_links:\n",
    "    re = requests.get(link)\n",
    "    soup = BeautifulSoup(re.text, 'html.parser')\n",
    "\n",
    "    name = soup.find('span', class_ = 'B_NuCI').text.strip()\n",
    "\n",
    "    price= soup.find('div', class_='_30jeq3 _16Jk6d').text[1:].replace(',','')\n",
    "    price= float(price)\n",
    "\n",
    "    try:\n",
    "        rating = soup.find('div', '_3LWZlK').text\n",
    "        rating = float(rating)\n",
    "    except:\n",
    "        rating='n/a'\n",
    "        \n",
    "        \n",
    "    product = {\n",
    "        'Product_name' : name,\n",
    "        'Price': price,\n",
    "        'Review':rating\n",
    "    }\n",
    "    \n",
    "    product_list.append(product)\n",
    "    \n",
    "\n",
    "df= pd.DataFrame(product_list)\n",
    "\n",
    "\n",
    "df.to_csv(\"flipkart.csv\")\n",
    "print('csv file saved')\n",
    "\n",
    "\n",
    "\n",
    "\n"
   ]
  },
  {
   "cell_type": "code",
   "execution_count": 8,
   "id": "a1f467e2",
   "metadata": {},
   "outputs": [
    {
     "data": {
      "text/html": [
       "<div>\n",
       "<style scoped>\n",
       "    .dataframe tbody tr th:only-of-type {\n",
       "        vertical-align: middle;\n",
       "    }\n",
       "\n",
       "    .dataframe tbody tr th {\n",
       "        vertical-align: top;\n",
       "    }\n",
       "\n",
       "    .dataframe thead th {\n",
       "        text-align: right;\n",
       "    }\n",
       "</style>\n",
       "<table border=\"1\" class=\"dataframe\">\n",
       "  <thead>\n",
       "    <tr style=\"text-align: right;\">\n",
       "      <th></th>\n",
       "      <th>Product_name</th>\n",
       "      <th>Price</th>\n",
       "      <th>Review</th>\n",
       "    </tr>\n",
       "  </thead>\n",
       "  <tbody>\n",
       "    <tr>\n",
       "      <th>0</th>\n",
       "      <td>boAt 10000 mAh Power Bank (22.5 W, Quick Charg...</td>\n",
       "      <td>1299.0</td>\n",
       "      <td>4.2</td>\n",
       "    </tr>\n",
       "    <tr>\n",
       "      <th>1</th>\n",
       "      <td>SAMSUNG 10000 mAh Power Bank (25 W, Fast Charg...</td>\n",
       "      <td>1999.0</td>\n",
       "      <td>4.3</td>\n",
       "    </tr>\n",
       "    <tr>\n",
       "      <th>2</th>\n",
       "      <td>ORAIMO 20000 mAh Power Bank (12 w, Fast Chargi...</td>\n",
       "      <td>1099.0</td>\n",
       "      <td>4.1</td>\n",
       "    </tr>\n",
       "    <tr>\n",
       "      <th>3</th>\n",
       "      <td>ORAIMO 20000 mAh Power Bank (12 w, Fast Chargi...</td>\n",
       "      <td>1099.0</td>\n",
       "      <td>4.1</td>\n",
       "    </tr>\n",
       "    <tr>\n",
       "      <th>4</th>\n",
       "      <td>ORAIMO 20000 mAh Power Bank (12 w, Fast Chargi...</td>\n",
       "      <td>1099.0</td>\n",
       "      <td>4.1</td>\n",
       "    </tr>\n",
       "    <tr>\n",
       "      <th>5</th>\n",
       "      <td>Syska 10000 mAh Power Bank (Fast Charging)  (E...</td>\n",
       "      <td>799.0</td>\n",
       "      <td>3.7</td>\n",
       "    </tr>\n",
       "    <tr>\n",
       "      <th>6</th>\n",
       "      <td>AJYE 20000 mAh Power Bank  (Black, Lithium-ion)</td>\n",
       "      <td>569.0</td>\n",
       "      <td>4.2</td>\n",
       "    </tr>\n",
       "    <tr>\n",
       "      <th>7</th>\n",
       "      <td>Ambrane 10000 mAh Power Bank (12 W, Fast Charg...</td>\n",
       "      <td>899.0</td>\n",
       "      <td>4.1</td>\n",
       "    </tr>\n",
       "    <tr>\n",
       "      <th>8</th>\n",
       "      <td>Intex 20000 mAh Power Bank (12 W, Fast Chargin...</td>\n",
       "      <td>1199.0</td>\n",
       "      <td>3.8</td>\n",
       "    </tr>\n",
       "    <tr>\n",
       "      <th>9</th>\n",
       "      <td>Ambrane 20000 mAh Power Bank (20 W, Power Deli...</td>\n",
       "      <td>1999.0</td>\n",
       "      <td>4.2</td>\n",
       "    </tr>\n",
       "  </tbody>\n",
       "</table>\n",
       "</div>"
      ],
      "text/plain": [
       "                                        Product_name   Price  Review\n",
       "0  boAt 10000 mAh Power Bank (22.5 W, Quick Charg...  1299.0     4.2\n",
       "1  SAMSUNG 10000 mAh Power Bank (25 W, Fast Charg...  1999.0     4.3\n",
       "2  ORAIMO 20000 mAh Power Bank (12 w, Fast Chargi...  1099.0     4.1\n",
       "3  ORAIMO 20000 mAh Power Bank (12 w, Fast Chargi...  1099.0     4.1\n",
       "4  ORAIMO 20000 mAh Power Bank (12 w, Fast Chargi...  1099.0     4.1\n",
       "5  Syska 10000 mAh Power Bank (Fast Charging)  (E...   799.0     3.7\n",
       "6    AJYE 20000 mAh Power Bank  (Black, Lithium-ion)   569.0     4.2\n",
       "7  Ambrane 10000 mAh Power Bank (12 W, Fast Charg...   899.0     4.1\n",
       "8  Intex 20000 mAh Power Bank (12 W, Fast Chargin...  1199.0     3.8\n",
       "9  Ambrane 20000 mAh Power Bank (20 W, Power Deli...  1999.0     4.2"
      ]
     },
     "execution_count": 8,
     "metadata": {},
     "output_type": "execute_result"
    }
   ],
   "source": [
    "df.head(10)"
   ]
  },
  {
   "cell_type": "code",
   "execution_count": 9,
   "id": "df0ad350",
   "metadata": {},
   "outputs": [
    {
     "name": "stdout",
     "output_type": "stream",
     "text": [
      "Number of rows: 400\n",
      "Number of columns: 3\n"
     ]
    }
   ],
   "source": [
    "dimensions = df.shape\n",
    "print(\"Number of rows:\", dimensions[0])\n",
    "print(\"Number of columns:\", dimensions[1])"
   ]
  },
  {
   "cell_type": "code",
   "execution_count": null,
   "id": "67ba6f5c",
   "metadata": {},
   "outputs": [],
   "source": []
  },
  {
   "cell_type": "code",
   "execution_count": null,
   "id": "8729230a",
   "metadata": {},
   "outputs": [],
   "source": []
  }
 ],
 "metadata": {
  "kernelspec": {
   "display_name": "Python 3 (ipykernel)",
   "language": "python",
   "name": "python3"
  },
  "language_info": {
   "codemirror_mode": {
    "name": "ipython",
    "version": 3
   },
   "file_extension": ".py",
   "mimetype": "text/x-python",
   "name": "python",
   "nbconvert_exporter": "python",
   "pygments_lexer": "ipython3",
   "version": "3.10.9"
  }
 },
 "nbformat": 4,
 "nbformat_minor": 5
}
